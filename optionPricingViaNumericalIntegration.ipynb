{
 "cells": [
  {
   "cell_type": "code",
   "execution_count": 1,
   "metadata": {},
   "outputs": [],
   "source": [
    "import numpy as np\n",
    "import matplotlib.pyplot as plt\n",
    "import time"
   ]
  },
  {
   "cell_type": "code",
   "execution_count": 9,
   "metadata": {},
   "outputs": [],
   "source": [
    "# Fixed Parameters\n",
    "S0 = 100\n",
    "K = 140\n",
    "r = 0.05\n",
    "q = 0.01\n",
    "sig = 0.3\n",
    "T = 1.0"
   ]
  },
  {
   "cell_type": "code",
   "execution_count": 10,
   "metadata": {},
   "outputs": [],
   "source": [
    "#step-size\n",
    "dS = 0.20\n",
    "\n",
    "# number of grid points\n",
    "n = 12\n",
    "N = 2**n\n",
    "\n",
    "# model under consideration\n",
    "model = 'LogNormal'"
   ]
  },
  {
   "cell_type": "code",
   "execution_count": 11,
   "metadata": {},
   "outputs": [],
   "source": [
    "def logNormal(S, r, q, sig, S0, T):\n",
    "    \n",
    "    f = np.exp(-0.5*((np.log(S/S0)-(r-q-sig**2/2)*T)/(sig*np.sqrt(T)))**2)/(sig*S*np.sqrt(2*np.pi*T))\n",
    "    return f"
   ]
  },
  {
   "cell_type": "code",
   "execution_count": 12,
   "metadata": {},
   "outputs": [],
   "source": [
    "def evaluateIntegral(*args):\n",
    "    \n",
    "    r   = args[0]\n",
    "    q   = args[1]\n",
    "    S0  = args[2]\n",
    "    K   = args[3]\n",
    "    sig = args[4]\n",
    "    T   = args[5]\n",
    "    N   = args[6]\n",
    "    dS  = args[7]\n",
    "    \n",
    "    #discount factor\n",
    "    df = np.exp(-r*T)\n",
    "    \n",
    "    # evaluation of the integral using Trapezoidal method\n",
    "    sumC = 0\n",
    "    sumP = 0\n",
    "\n",
    "    S = np.zeros((N,1))\n",
    "    for j in range(N):\n",
    "        S[j] = 1.0+j*dS\n",
    "        \n",
    "    tmp = logNormal(S, r, q, sig, S0, T)\n",
    "\n",
    "    for j in range(N):\n",
    "        if j == 0:\n",
    "            wj = dS/2\n",
    "        else:\n",
    "            wj = dS\n",
    "        \n",
    "        if (S[j] > K):\n",
    "            sumC += (S[j]-K)*tmp[j]*wj\n",
    "            \n",
    "        if (S[j] < K):\n",
    "            sumP += (K-S[j])*tmp[j]*wj\n",
    "        \n",
    "    c0_KT = df * sumC\n",
    "    p0_KT = df * sumP\n",
    "    \n",
    "    return c0_KT, p0_KT "
   ]
  },
  {
   "cell_type": "code",
   "execution_count": 13,
   "metadata": {},
   "outputs": [],
   "source": [
    "# plotting lognormal density f(S|S0)\n",
    "   \n",
    "S = np.zeros((N,1))\n",
    "for i in range(N):\n",
    "    S[i] = dS+i*dS\n",
    "\n",
    "f = logNormal(S, r, q, sig, S0, T)"
   ]
  },
  {
   "cell_type": "code",
   "execution_count": 14,
   "metadata": {},
   "outputs": [
    {
     "data": {
      "image/png": "[encoded data removed]",
      "text/plain": [
       "<Figure size 432x288 with 1 Axes>"
      ]
     },
     "metadata": {
      "needs_background": "light"
     },
     "output_type": "display_data"
    }
   ],
   "source": [
    "plt.plot(S, f)\n",
    "plt.xlabel('$S_T$')\n",
    "plt.ylabel('lognormal density $f(S_T|S_0)$')\n",
    "plt.show()\n"
   ]
  },
  {
   "cell_type": "code",
   "execution_count": 15,
   "metadata": {},
   "outputs": [
    {
     "name": "stdout",
     "output_type": "stream",
     "text": [
      " \n",
      "===================\n",
      "Model is LogNormal\n",
      "-------------------\n",
      "[2.91403837] [37.08117443]\n",
      "0.05847501754760742\n"
     ]
    }
   ],
   "source": [
    "start_time = time.time()\n",
    "print(' ')\n",
    "print('===================')\n",
    "print('Model is %s' % model)\n",
    "print('-------------------')\n",
    "arg = (r, q, S0, K, sig, T, N, dS)\n",
    "c0_KT, p0_KT = evaluateIntegral(*arg)\n",
    "print(c0_KT, p0_KT)\n",
    "elapsed_time = time.time() - start_time\n",
    "print(elapsed_time)"
   ]
  },
  {
   "cell_type": "code",
   "execution_count": null,
   "metadata": {
    "collapsed": true
   },
   "outputs": [],
   "source": []
  }
 ],
 "metadata": {
  "kernelspec": {
   "display_name": "Python 3 (ipykernel)",
   "language": "python",
   "name": "python3"
  },
  "language_info": {
   "codemirror_mode": {
    "name": "ipython",
    "version": 3
   },
   "file_extension": ".py",
   "mimetype": "text/x-python",
   "name": "python",
   "nbconvert_exporter": "python",
   "pygments_lexer": "ipython3",
   "version": "3.9.7"
  }
 },
 "nbformat": 4,
 "nbformat_minor": 2
}
